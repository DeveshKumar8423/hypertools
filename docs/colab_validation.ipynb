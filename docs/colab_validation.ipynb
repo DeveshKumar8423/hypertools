{
  "cells": [
    {
      "cell_type": "code",
      "execution_count": null,
      "metadata": {},
      "outputs": [
        {
          "name": "stdout",
          "output_type": "stream",
          "text": [
            "Note: you may need to restart the kernel to use updated packages.\n",
            "Note: you may need to restart the kernel to use updated packages.\n",
            "Note: you may need to restart the kernel to use updated packages.\n",
            "Installs complete. If imports fail, restart runtime and run again.\n"
          ]
        }
      ],
      "source": [
        "# Install hypertools and deps (default to NumPy < 2 to avoid binary incompatibilities in Colab)\n",
        "%pip install -q --upgrade pip\n",
        "%pip install -q \"numpy<2\" \"pandas>=1.3,<3\" \"scikit-learn>=1.0\" \"umap-learn>=0.5\" \"matplotlib>=3.3\" \"plotly>=5\" \"seaborn>=0.11\"\n",
        "# Install from your GitHub fork (master has the merged modernization)\n",
        "%pip install -q -U git+https://github.com/DeveshKumar8423/hypertools.git@master\n",
        "print('Installs complete. If imports fail, restart runtime and run again.')\n"
      ]
    },
    {
      "cell_type": "code",
      "execution_count": null,
      "metadata": {},
      "outputs": [
        {
          "name": "stdout",
          "output_type": "stream",
          "text": [
            "Warnings suppressed\n"
          ]
        }
      ],
      "source": [
        "import warnings, os\n",
        "warnings.filterwarnings('ignore')\n",
        "os.environ['PYTHONWARNINGS']='ignore'\n",
        "# TensorFlow and other verbose libs\n",
        "os.environ['TF_CPP_MIN_LOG_LEVEL'] = '3'\n",
        "print('Warnings suppressed')\n"
      ]
    },
    {
      "cell_type": "code",
      "execution_count": 11,
      "metadata": {},
      "outputs": [
        {
          "name": "stderr",
          "output_type": "stream",
          "text": [
            "2025-08-09 09:39:16.318575: I tensorflow/core/platform/cpu_feature_guard.cc:210] This TensorFlow binary is optimized to use available CPU instructions in performance-critical operations.\n",
            "To enable the following instructions: AVX2 AVX512F AVX512_VNNI FMA, in other operations, rebuild TensorFlow with the appropriate compiler flags.\n",
            "\n",
            "A module that was compiled using NumPy 1.x cannot be run in\n",
            "NumPy 2.2.6 as it may crash. To support both 1.x and 2.x\n",
            "versions of NumPy, modules must be compiled with NumPy 2.0.\n",
            "Some module may need to rebuild instead e.g. with 'pybind11>=2.12'.\n",
            "\n",
            "If you are a user of the module, the easiest solution will be to\n",
            "downgrade to 'numpy<2' or try to upgrade the affected module.\n",
            "We expect that some modules will need time to support NumPy 2.\n",
            "\n",
            "Traceback (most recent call last):  File \"/usr/local/Cellar/python@3.10/3.10.17_1/Frameworks/Python.framework/Versions/3.10/lib/python3.10/runpy.py\", line 196, in _run_module_as_main\n",
            "    return _run_code(code, main_globals, None,\n",
            "  File \"/usr/local/Cellar/python@3.10/3.10.17_1/Frameworks/Python.framework/Versions/3.10/lib/python3.10/runpy.py\", line 86, in _run_code\n",
            "    exec(code, run_globals)\n",
            "  File \"/Users/a1/Library/Python/3.10/lib/python/site-packages/ipykernel_launcher.py\", line 18, in <module>\n",
            "    app.launch_new_instance()\n",
            "  File \"/Users/a1/Library/Python/3.10/lib/python/site-packages/traitlets/config/application.py\", line 1075, in launch_instance\n",
            "    app.start()\n",
            "  File \"/Users/a1/Library/Python/3.10/lib/python/site-packages/ipykernel/kernelapp.py\", line 739, in start\n",
            "    self.io_loop.start()\n",
            "  File \"/Users/a1/Library/Python/3.10/lib/python/site-packages/tornado/platform/asyncio.py\", line 205, in start\n",
            "    self.asyncio_loop.run_forever()\n",
            "  File \"/usr/local/Cellar/python@3.10/3.10.17_1/Frameworks/Python.framework/Versions/3.10/lib/python3.10/asyncio/base_events.py\", line 603, in run_forever\n",
            "    self._run_once()\n",
            "  File \"/usr/local/Cellar/python@3.10/3.10.17_1/Frameworks/Python.framework/Versions/3.10/lib/python3.10/asyncio/base_events.py\", line 1909, in _run_once\n",
            "    handle._run()\n",
            "  File \"/usr/local/Cellar/python@3.10/3.10.17_1/Frameworks/Python.framework/Versions/3.10/lib/python3.10/asyncio/events.py\", line 80, in _run\n",
            "    self._context.run(self._callback, *self._args)\n",
            "  File \"/Users/a1/Library/Python/3.10/lib/python/site-packages/ipykernel/kernelbase.py\", line 545, in dispatch_queue\n",
            "    await self.process_one()\n",
            "  File \"/Users/a1/Library/Python/3.10/lib/python/site-packages/ipykernel/kernelbase.py\", line 534, in process_one\n",
            "    await dispatch(*args)\n",
            "  File \"/Users/a1/Library/Python/3.10/lib/python/site-packages/ipykernel/kernelbase.py\", line 437, in dispatch_shell\n",
            "    await result\n",
            "  File \"/Users/a1/Library/Python/3.10/lib/python/site-packages/ipykernel/ipkernel.py\", line 362, in execute_request\n",
            "    await super().execute_request(stream, ident, parent)\n",
            "  File \"/Users/a1/Library/Python/3.10/lib/python/site-packages/ipykernel/kernelbase.py\", line 778, in execute_request\n",
            "    reply_content = await reply_content\n",
            "  File \"/Users/a1/Library/Python/3.10/lib/python/site-packages/ipykernel/ipkernel.py\", line 449, in do_execute\n",
            "    res = shell.run_cell(\n",
            "  File \"/Users/a1/Library/Python/3.10/lib/python/site-packages/ipykernel/zmqshell.py\", line 549, in run_cell\n",
            "    return super().run_cell(*args, **kwargs)\n",
            "  File \"/Users/a1/Library/Python/3.10/lib/python/site-packages/IPython/core/interactiveshell.py\", line 3075, in run_cell\n",
            "    result = self._run_cell(\n",
            "  File \"/Users/a1/Library/Python/3.10/lib/python/site-packages/IPython/core/interactiveshell.py\", line 3130, in _run_cell\n",
            "    result = runner(coro)\n",
            "  File \"/Users/a1/Library/Python/3.10/lib/python/site-packages/IPython/core/async_helpers.py\", line 128, in _pseudo_sync_runner\n",
            "    coro.send(None)\n",
            "  File \"/Users/a1/Library/Python/3.10/lib/python/site-packages/IPython/core/interactiveshell.py\", line 3334, in run_cell_async\n",
            "    has_raised = await self.run_ast_nodes(code_ast.body, cell_name,\n",
            "  File \"/Users/a1/Library/Python/3.10/lib/python/site-packages/IPython/core/interactiveshell.py\", line 3517, in run_ast_nodes\n",
            "    if await self.run_code(code, result, async_=asy):\n",
            "  File \"/Users/a1/Library/Python/3.10/lib/python/site-packages/IPython/core/interactiveshell.py\", line 3577, in run_code\n",
            "    exec(code_obj, self.user_global_ns, self.user_ns)\n",
            "  File \"/var/folders/_8/ck2cc3_d67g033b2z_kgbsww0000gn/T/ipykernel_42380/8735533.py\", line 2, in <module>\n",
            "    import hypertools as hyp\n",
            "  File \"/usr/local/lib/python3.10/site-packages/hypertools/__init__.py\", line 1, in <module>\n",
            "    from .align import align, pad, trim_and_pad\n",
            "  File \"/usr/local/lib/python3.10/site-packages/hypertools/align/__init__.py\", line 1, in <module>\n",
            "    from .align import align\n",
            "  File \"/usr/local/lib/python3.10/site-packages/hypertools/align/align.py\", line 4, in <module>\n",
            "    from .hyperalign import HyperAlign\n",
            "  File \"/usr/local/lib/python3.10/site-packages/hypertools/align/hyperalign.py\", line 5, in <module>\n",
            "    from .procrustes import Procrustes\n",
            "  File \"/usr/local/lib/python3.10/site-packages/hypertools/align/procrustes.py\", line 8, in <module>\n",
            "    from ..core import get_default_options, eval_dict\n",
            "  File \"/usr/local/lib/python3.10/site-packages/hypertools/core/__init__.py\", line 1, in <module>\n",
            "    from .model import get_model, apply_model, has_all_attributes, has_any_attributes\n",
            "  File \"/usr/local/lib/python3.10/site-packages/hypertools/core/model.py\", line 4, in <module>\n",
            "    import umap\n",
            "  File \"/usr/local/lib/python3.10/site-packages/umap/__init__.py\", line 7, in <module>\n",
            "    from .parametric_umap import ParametricUMAP, load_ParametricUMAP\n",
            "  File \"/usr/local/lib/python3.10/site-packages/umap/parametric_umap.py\", line 13, in <module>\n",
            "    import tensorflow as tf\n",
            "  File \"/usr/local/lib/python3.10/site-packages/tensorflow/__init__.py\", line 45, in <module>\n",
            "    from tensorflow._api.v2 import __internal__\n",
            "  File \"/usr/local/lib/python3.10/site-packages/tensorflow/_api/v2/__internal__/__init__.py\", line 8, in <module>\n",
            "    from tensorflow._api.v2.__internal__ import autograph\n",
            "  File \"/usr/local/lib/python3.10/site-packages/tensorflow/_api/v2/__internal__/autograph/__init__.py\", line 8, in <module>\n",
            "    from tensorflow.python.autograph.core.ag_ctx import control_status_ctx # line: 34\n",
            "  File \"/usr/local/lib/python3.10/site-packages/tensorflow/python/autograph/core/ag_ctx.py\", line 21, in <module>\n",
            "    from tensorflow.python.autograph.utils import ag_logging\n",
            "  File \"/usr/local/lib/python3.10/site-packages/tensorflow/python/autograph/utils/__init__.py\", line 17, in <module>\n",
            "    from tensorflow.python.autograph.utils.context_managers import control_dependency_on_returns\n",
            "  File \"/usr/local/lib/python3.10/site-packages/tensorflow/python/autograph/utils/context_managers.py\", line 19, in <module>\n",
            "    from tensorflow.python.framework import ops\n",
            "  File \"/usr/local/lib/python3.10/site-packages/tensorflow/python/framework/ops.py\", line 46, in <module>\n",
            "    from tensorflow.python import pywrap_tfe\n",
            "  File \"/usr/local/lib/python3.10/site-packages/tensorflow/python/pywrap_tfe.py\", line 25, in <module>\n",
            "    from tensorflow.python._pywrap_tfe import *\n"
          ]
        },
        {
          "ename": "AttributeError",
          "evalue": "_ARRAY_API not found",
          "output_type": "error",
          "traceback": [
            "\u001b[0;31m---------------------------------------------------------------------------\u001b[0m",
            "\u001b[0;31mAttributeError\u001b[0m                            Traceback (most recent call last)",
            "\u001b[0;31mAttributeError\u001b[0m: _ARRAY_API not found"
          ]
        },
        {
          "name": "stderr",
          "output_type": "stream",
          "text": [
            "\n",
            "A module that was compiled using NumPy 1.x cannot be run in\n",
            "NumPy 2.2.6 as it may crash. To support both 1.x and 2.x\n",
            "versions of NumPy, modules must be compiled with NumPy 2.0.\n",
            "Some module may need to rebuild instead e.g. with 'pybind11>=2.12'.\n",
            "\n",
            "If you are a user of the module, the easiest solution will be to\n",
            "downgrade to 'numpy<2' or try to upgrade the affected module.\n",
            "We expect that some modules will need time to support NumPy 2.\n",
            "\n",
            "Traceback (most recent call last):  File \"/usr/local/Cellar/python@3.10/3.10.17_1/Frameworks/Python.framework/Versions/3.10/lib/python3.10/runpy.py\", line 196, in _run_module_as_main\n",
            "    return _run_code(code, main_globals, None,\n",
            "  File \"/usr/local/Cellar/python@3.10/3.10.17_1/Frameworks/Python.framework/Versions/3.10/lib/python3.10/runpy.py\", line 86, in _run_code\n",
            "    exec(code, run_globals)\n",
            "  File \"/Users/a1/Library/Python/3.10/lib/python/site-packages/ipykernel_launcher.py\", line 18, in <module>\n",
            "    app.launch_new_instance()\n",
            "  File \"/Users/a1/Library/Python/3.10/lib/python/site-packages/traitlets/config/application.py\", line 1075, in launch_instance\n",
            "    app.start()\n",
            "  File \"/Users/a1/Library/Python/3.10/lib/python/site-packages/ipykernel/kernelapp.py\", line 739, in start\n",
            "    self.io_loop.start()\n",
            "  File \"/Users/a1/Library/Python/3.10/lib/python/site-packages/tornado/platform/asyncio.py\", line 205, in start\n",
            "    self.asyncio_loop.run_forever()\n",
            "  File \"/usr/local/Cellar/python@3.10/3.10.17_1/Frameworks/Python.framework/Versions/3.10/lib/python3.10/asyncio/base_events.py\", line 603, in run_forever\n",
            "    self._run_once()\n",
            "  File \"/usr/local/Cellar/python@3.10/3.10.17_1/Frameworks/Python.framework/Versions/3.10/lib/python3.10/asyncio/base_events.py\", line 1909, in _run_once\n",
            "    handle._run()\n",
            "  File \"/usr/local/Cellar/python@3.10/3.10.17_1/Frameworks/Python.framework/Versions/3.10/lib/python3.10/asyncio/events.py\", line 80, in _run\n",
            "    self._context.run(self._callback, *self._args)\n",
            "  File \"/Users/a1/Library/Python/3.10/lib/python/site-packages/ipykernel/kernelbase.py\", line 545, in dispatch_queue\n",
            "    await self.process_one()\n",
            "  File \"/Users/a1/Library/Python/3.10/lib/python/site-packages/ipykernel/kernelbase.py\", line 534, in process_one\n",
            "    await dispatch(*args)\n",
            "  File \"/Users/a1/Library/Python/3.10/lib/python/site-packages/ipykernel/kernelbase.py\", line 437, in dispatch_shell\n",
            "    await result\n",
            "  File \"/Users/a1/Library/Python/3.10/lib/python/site-packages/ipykernel/ipkernel.py\", line 362, in execute_request\n",
            "    await super().execute_request(stream, ident, parent)\n",
            "  File \"/Users/a1/Library/Python/3.10/lib/python/site-packages/ipykernel/kernelbase.py\", line 778, in execute_request\n",
            "    reply_content = await reply_content\n",
            "  File \"/Users/a1/Library/Python/3.10/lib/python/site-packages/ipykernel/ipkernel.py\", line 449, in do_execute\n",
            "    res = shell.run_cell(\n",
            "  File \"/Users/a1/Library/Python/3.10/lib/python/site-packages/ipykernel/zmqshell.py\", line 549, in run_cell\n",
            "    return super().run_cell(*args, **kwargs)\n",
            "  File \"/Users/a1/Library/Python/3.10/lib/python/site-packages/IPython/core/interactiveshell.py\", line 3075, in run_cell\n",
            "    result = self._run_cell(\n",
            "  File \"/Users/a1/Library/Python/3.10/lib/python/site-packages/IPython/core/interactiveshell.py\", line 3130, in _run_cell\n",
            "    result = runner(coro)\n",
            "  File \"/Users/a1/Library/Python/3.10/lib/python/site-packages/IPython/core/async_helpers.py\", line 128, in _pseudo_sync_runner\n",
            "    coro.send(None)\n",
            "  File \"/Users/a1/Library/Python/3.10/lib/python/site-packages/IPython/core/interactiveshell.py\", line 3334, in run_cell_async\n",
            "    has_raised = await self.run_ast_nodes(code_ast.body, cell_name,\n",
            "  File \"/Users/a1/Library/Python/3.10/lib/python/site-packages/IPython/core/interactiveshell.py\", line 3517, in run_ast_nodes\n",
            "    if await self.run_code(code, result, async_=asy):\n",
            "  File \"/Users/a1/Library/Python/3.10/lib/python/site-packages/IPython/core/interactiveshell.py\", line 3577, in run_code\n",
            "    exec(code_obj, self.user_global_ns, self.user_ns)\n",
            "  File \"/var/folders/_8/ck2cc3_d67g033b2z_kgbsww0000gn/T/ipykernel_42380/8735533.py\", line 2, in <module>\n",
            "    import hypertools as hyp\n",
            "  File \"/usr/local/lib/python3.10/site-packages/hypertools/__init__.py\", line 1, in <module>\n",
            "    from .align import align, pad, trim_and_pad\n",
            "  File \"/usr/local/lib/python3.10/site-packages/hypertools/align/__init__.py\", line 1, in <module>\n",
            "    from .align import align\n",
            "  File \"/usr/local/lib/python3.10/site-packages/hypertools/align/align.py\", line 4, in <module>\n",
            "    from .hyperalign import HyperAlign\n",
            "  File \"/usr/local/lib/python3.10/site-packages/hypertools/align/hyperalign.py\", line 5, in <module>\n",
            "    from .procrustes import Procrustes\n",
            "  File \"/usr/local/lib/python3.10/site-packages/hypertools/align/procrustes.py\", line 8, in <module>\n",
            "    from ..core import get_default_options, eval_dict\n",
            "  File \"/usr/local/lib/python3.10/site-packages/hypertools/core/__init__.py\", line 1, in <module>\n",
            "    from .model import get_model, apply_model, has_all_attributes, has_any_attributes\n",
            "  File \"/usr/local/lib/python3.10/site-packages/hypertools/core/model.py\", line 4, in <module>\n",
            "    import umap\n",
            "  File \"/usr/local/lib/python3.10/site-packages/umap/__init__.py\", line 7, in <module>\n",
            "    from .parametric_umap import ParametricUMAP, load_ParametricUMAP\n",
            "  File \"/usr/local/lib/python3.10/site-packages/umap/parametric_umap.py\", line 13, in <module>\n",
            "    import tensorflow as tf\n",
            "  File \"/usr/local/lib/python3.10/site-packages/tensorflow/__init__.py\", line 45, in <module>\n",
            "    from tensorflow._api.v2 import __internal__\n",
            "  File \"/usr/local/lib/python3.10/site-packages/tensorflow/_api/v2/__internal__/__init__.py\", line 8, in <module>\n",
            "    from tensorflow._api.v2.__internal__ import autograph\n",
            "  File \"/usr/local/lib/python3.10/site-packages/tensorflow/_api/v2/__internal__/autograph/__init__.py\", line 8, in <module>\n",
            "    from tensorflow.python.autograph.core.ag_ctx import control_status_ctx # line: 34\n",
            "  File \"/usr/local/lib/python3.10/site-packages/tensorflow/python/autograph/core/ag_ctx.py\", line 21, in <module>\n",
            "    from tensorflow.python.autograph.utils import ag_logging\n",
            "  File \"/usr/local/lib/python3.10/site-packages/tensorflow/python/autograph/utils/__init__.py\", line 17, in <module>\n",
            "    from tensorflow.python.autograph.utils.context_managers import control_dependency_on_returns\n",
            "  File \"/usr/local/lib/python3.10/site-packages/tensorflow/python/autograph/utils/context_managers.py\", line 19, in <module>\n",
            "    from tensorflow.python.framework import ops\n",
            "  File \"/usr/local/lib/python3.10/site-packages/tensorflow/python/framework/ops.py\", line 49, in <module>\n",
            "    from tensorflow.python.client import pywrap_tf_session\n",
            "  File \"/usr/local/lib/python3.10/site-packages/tensorflow/python/client/pywrap_tf_session.py\", line 19, in <module>\n",
            "    from tensorflow.python.client._pywrap_tf_session import *\n"
          ]
        },
        {
          "ename": "AttributeError",
          "evalue": "_ARRAY_API not found",
          "output_type": "error",
          "traceback": [
            "\u001b[0;31m---------------------------------------------------------------------------\u001b[0m",
            "\u001b[0;31mAttributeError\u001b[0m                            Traceback (most recent call last)",
            "\u001b[0;31mAttributeError\u001b[0m: _ARRAY_API not found"
          ]
        },
        {
          "name": "stderr",
          "output_type": "stream",
          "text": [
            "\n",
            "A module that was compiled using NumPy 1.x cannot be run in\n",
            "NumPy 2.2.6 as it may crash. To support both 1.x and 2.x\n",
            "versions of NumPy, modules must be compiled with NumPy 2.0.\n",
            "Some module may need to rebuild instead e.g. with 'pybind11>=2.12'.\n",
            "\n",
            "If you are a user of the module, the easiest solution will be to\n",
            "downgrade to 'numpy<2' or try to upgrade the affected module.\n",
            "We expect that some modules will need time to support NumPy 2.\n",
            "\n",
            "Traceback (most recent call last):  File \"/usr/local/Cellar/python@3.10/3.10.17_1/Frameworks/Python.framework/Versions/3.10/lib/python3.10/runpy.py\", line 196, in _run_module_as_main\n",
            "    return _run_code(code, main_globals, None,\n",
            "  File \"/usr/local/Cellar/python@3.10/3.10.17_1/Frameworks/Python.framework/Versions/3.10/lib/python3.10/runpy.py\", line 86, in _run_code\n",
            "    exec(code, run_globals)\n",
            "  File \"/Users/a1/Library/Python/3.10/lib/python/site-packages/ipykernel_launcher.py\", line 18, in <module>\n",
            "    app.launch_new_instance()\n",
            "  File \"/Users/a1/Library/Python/3.10/lib/python/site-packages/traitlets/config/application.py\", line 1075, in launch_instance\n",
            "    app.start()\n",
            "  File \"/Users/a1/Library/Python/3.10/lib/python/site-packages/ipykernel/kernelapp.py\", line 739, in start\n",
            "    self.io_loop.start()\n",
            "  File \"/Users/a1/Library/Python/3.10/lib/python/site-packages/tornado/platform/asyncio.py\", line 205, in start\n",
            "    self.asyncio_loop.run_forever()\n",
            "  File \"/usr/local/Cellar/python@3.10/3.10.17_1/Frameworks/Python.framework/Versions/3.10/lib/python3.10/asyncio/base_events.py\", line 603, in run_forever\n",
            "    self._run_once()\n",
            "  File \"/usr/local/Cellar/python@3.10/3.10.17_1/Frameworks/Python.framework/Versions/3.10/lib/python3.10/asyncio/base_events.py\", line 1909, in _run_once\n",
            "    handle._run()\n",
            "  File \"/usr/local/Cellar/python@3.10/3.10.17_1/Frameworks/Python.framework/Versions/3.10/lib/python3.10/asyncio/events.py\", line 80, in _run\n",
            "    self._context.run(self._callback, *self._args)\n",
            "  File \"/Users/a1/Library/Python/3.10/lib/python/site-packages/ipykernel/kernelbase.py\", line 545, in dispatch_queue\n",
            "    await self.process_one()\n",
            "  File \"/Users/a1/Library/Python/3.10/lib/python/site-packages/ipykernel/kernelbase.py\", line 534, in process_one\n",
            "    await dispatch(*args)\n",
            "  File \"/Users/a1/Library/Python/3.10/lib/python/site-packages/ipykernel/kernelbase.py\", line 437, in dispatch_shell\n",
            "    await result\n",
            "  File \"/Users/a1/Library/Python/3.10/lib/python/site-packages/ipykernel/ipkernel.py\", line 362, in execute_request\n",
            "    await super().execute_request(stream, ident, parent)\n",
            "  File \"/Users/a1/Library/Python/3.10/lib/python/site-packages/ipykernel/kernelbase.py\", line 778, in execute_request\n",
            "    reply_content = await reply_content\n",
            "  File \"/Users/a1/Library/Python/3.10/lib/python/site-packages/ipykernel/ipkernel.py\", line 449, in do_execute\n",
            "    res = shell.run_cell(\n",
            "  File \"/Users/a1/Library/Python/3.10/lib/python/site-packages/ipykernel/zmqshell.py\", line 549, in run_cell\n",
            "    return super().run_cell(*args, **kwargs)\n",
            "  File \"/Users/a1/Library/Python/3.10/lib/python/site-packages/IPython/core/interactiveshell.py\", line 3075, in run_cell\n",
            "    result = self._run_cell(\n",
            "  File \"/Users/a1/Library/Python/3.10/lib/python/site-packages/IPython/core/interactiveshell.py\", line 3130, in _run_cell\n",
            "    result = runner(coro)\n",
            "  File \"/Users/a1/Library/Python/3.10/lib/python/site-packages/IPython/core/async_helpers.py\", line 128, in _pseudo_sync_runner\n",
            "    coro.send(None)\n",
            "  File \"/Users/a1/Library/Python/3.10/lib/python/site-packages/IPython/core/interactiveshell.py\", line 3334, in run_cell_async\n",
            "    has_raised = await self.run_ast_nodes(code_ast.body, cell_name,\n",
            "  File \"/Users/a1/Library/Python/3.10/lib/python/site-packages/IPython/core/interactiveshell.py\", line 3517, in run_ast_nodes\n",
            "    if await self.run_code(code, result, async_=asy):\n",
            "  File \"/Users/a1/Library/Python/3.10/lib/python/site-packages/IPython/core/interactiveshell.py\", line 3577, in run_code\n",
            "    exec(code_obj, self.user_global_ns, self.user_ns)\n",
            "  File \"/var/folders/_8/ck2cc3_d67g033b2z_kgbsww0000gn/T/ipykernel_42380/8735533.py\", line 2, in <module>\n",
            "    import hypertools as hyp\n",
            "  File \"/usr/local/lib/python3.10/site-packages/hypertools/__init__.py\", line 1, in <module>\n",
            "    from .align import align, pad, trim_and_pad\n",
            "  File \"/usr/local/lib/python3.10/site-packages/hypertools/align/__init__.py\", line 1, in <module>\n",
            "    from .align import align\n",
            "  File \"/usr/local/lib/python3.10/site-packages/hypertools/align/align.py\", line 4, in <module>\n",
            "    from .hyperalign import HyperAlign\n",
            "  File \"/usr/local/lib/python3.10/site-packages/hypertools/align/hyperalign.py\", line 5, in <module>\n",
            "    from .procrustes import Procrustes\n",
            "  File \"/usr/local/lib/python3.10/site-packages/hypertools/align/procrustes.py\", line 8, in <module>\n",
            "    from ..core import get_default_options, eval_dict\n",
            "  File \"/usr/local/lib/python3.10/site-packages/hypertools/core/__init__.py\", line 1, in <module>\n",
            "    from .model import get_model, apply_model, has_all_attributes, has_any_attributes\n",
            "  File \"/usr/local/lib/python3.10/site-packages/hypertools/core/model.py\", line 4, in <module>\n",
            "    import umap\n",
            "  File \"/usr/local/lib/python3.10/site-packages/umap/__init__.py\", line 7, in <module>\n",
            "    from .parametric_umap import ParametricUMAP, load_ParametricUMAP\n",
            "  File \"/usr/local/lib/python3.10/site-packages/umap/parametric_umap.py\", line 13, in <module>\n",
            "    import tensorflow as tf\n",
            "  File \"/usr/local/lib/python3.10/site-packages/tensorflow/__init__.py\", line 45, in <module>\n",
            "    from tensorflow._api.v2 import __internal__\n",
            "  File \"/usr/local/lib/python3.10/site-packages/tensorflow/_api/v2/__internal__/__init__.py\", line 8, in <module>\n",
            "    from tensorflow._api.v2.__internal__ import autograph\n",
            "  File \"/usr/local/lib/python3.10/site-packages/tensorflow/_api/v2/__internal__/autograph/__init__.py\", line 8, in <module>\n",
            "    from tensorflow.python.autograph.core.ag_ctx import control_status_ctx # line: 34\n",
            "  File \"/usr/local/lib/python3.10/site-packages/tensorflow/python/autograph/core/ag_ctx.py\", line 21, in <module>\n",
            "    from tensorflow.python.autograph.utils import ag_logging\n",
            "  File \"/usr/local/lib/python3.10/site-packages/tensorflow/python/autograph/utils/__init__.py\", line 17, in <module>\n",
            "    from tensorflow.python.autograph.utils.context_managers import control_dependency_on_returns\n",
            "  File \"/usr/local/lib/python3.10/site-packages/tensorflow/python/autograph/utils/context_managers.py\", line 19, in <module>\n",
            "    from tensorflow.python.framework import ops\n",
            "  File \"/usr/local/lib/python3.10/site-packages/tensorflow/python/framework/ops.py\", line 50, in <module>\n",
            "    from tensorflow.python.eager import context\n",
            "  File \"/usr/local/lib/python3.10/site-packages/tensorflow/python/eager/context.py\", line 37, in <module>\n",
            "    from tensorflow.python.eager import execute\n",
            "  File \"/usr/local/lib/python3.10/site-packages/tensorflow/python/eager/execute.py\", line 21, in <module>\n",
            "    from tensorflow.python.framework import dtypes\n",
            "  File \"/usr/local/lib/python3.10/site-packages/tensorflow/python/framework/dtypes.py\", line 21, in <module>\n",
            "    import ml_dtypes\n",
            "  File \"/usr/local/lib/python3.10/site-packages/ml_dtypes/__init__.py\", line 32, in <module>\n",
            "    from ml_dtypes._finfo import finfo\n",
            "  File \"/usr/local/lib/python3.10/site-packages/ml_dtypes/_finfo.py\", line 19, in <module>\n",
            "    from ml_dtypes._ml_dtypes_ext import bfloat16\n"
          ]
        },
        {
          "ename": "AttributeError",
          "evalue": "_ARRAY_API not found",
          "output_type": "error",
          "traceback": [
            "\u001b[0;31m---------------------------------------------------------------------------\u001b[0m",
            "\u001b[0;31mAttributeError\u001b[0m                            Traceback (most recent call last)",
            "\u001b[0;31mAttributeError\u001b[0m: _ARRAY_API not found"
          ]
        },
        {
          "ename": "ImportError",
          "evalue": "numpy.core._multiarray_umath failed to import",
          "output_type": "error",
          "traceback": [
            "\u001b[0;31m---------------------------------------------------------------------------\u001b[0m",
            "\u001b[0;31mImportError\u001b[0m                               Traceback (most recent call last)",
            "\u001b[0;31mImportError\u001b[0m: numpy.core._multiarray_umath failed to import"
          ]
        },
        {
          "name": "stdout",
          "output_type": "stream",
          "text": [
            "Imports OK\n"
          ]
        }
      ],
      "source": [
        "import numpy as np\n",
        "import hypertools as hyp\n",
        "print('Imports OK')\n"
      ]
    },
    {
      "cell_type": "code",
      "execution_count": 5,
      "metadata": {},
      "outputs": [
        {
          "ename": "NameError",
          "evalue": "name 'hyp' is not defined",
          "output_type": "error",
          "traceback": [
            "\u001b[0;31m---------------------------------------------------------------------------\u001b[0m",
            "\u001b[0;31mNameError\u001b[0m                                 Traceback (most recent call last)",
            "Cell \u001b[0;32mIn[5], line 3\u001b[0m\n\u001b[1;32m      1\u001b[0m \u001b[38;5;66;03m# Basic plotting\u001b[39;00m\n\u001b[1;32m      2\u001b[0m data \u001b[38;5;241m=\u001b[39m np\u001b[38;5;241m.\u001b[39mrandom\u001b[38;5;241m.\u001b[39mrandn(\u001b[38;5;241m100\u001b[39m, \u001b[38;5;241m10\u001b[39m)\n\u001b[0;32m----> 3\u001b[0m fig \u001b[38;5;241m=\u001b[39m \u001b[43mhyp\u001b[49m\u001b[38;5;241m.\u001b[39mplot(data)\n\u001b[1;32m      4\u001b[0m fig\u001b[38;5;241m.\u001b[39mshow()\n\u001b[1;32m      5\u001b[0m \u001b[38;5;28mprint\u001b[39m(\u001b[38;5;124m'\u001b[39m\u001b[38;5;124mBasic plot complete\u001b[39m\u001b[38;5;124m'\u001b[39m)\n",
            "\u001b[0;31mNameError\u001b[0m: name 'hyp' is not defined"
          ]
        }
      ],
      "source": [
        "# Basic plotting\n",
        "data = np.random.randn(100, 10)\n",
        "fig = hyp.plot(data)\n",
        "fig.show()\n",
        "print('Basic plot complete')\n"
      ]
    },
    {
      "cell_type": "code",
      "execution_count": 6,
      "metadata": {},
      "outputs": [
        {
          "ename": "NameError",
          "evalue": "name 'hyp' is not defined",
          "output_type": "error",
          "traceback": [
            "\u001b[0;31m---------------------------------------------------------------------------\u001b[0m",
            "\u001b[0;31mNameError\u001b[0m                                 Traceback (most recent call last)",
            "Cell \u001b[0;32mIn[6], line 2\u001b[0m\n\u001b[1;32m      1\u001b[0m \u001b[38;5;66;03m# Dimensionality reduction\u001b[39;00m\n\u001b[0;32m----> 2\u001b[0m reduced_pca \u001b[38;5;241m=\u001b[39m \u001b[43mhyp\u001b[49m\u001b[38;5;241m.\u001b[39mreduce(data, model\u001b[38;5;241m=\u001b[39m\u001b[38;5;124m'\u001b[39m\u001b[38;5;124mPCA\u001b[39m\u001b[38;5;124m'\u001b[39m, n_components\u001b[38;5;241m=\u001b[39m\u001b[38;5;241m3\u001b[39m)\n\u001b[1;32m      3\u001b[0m reduced_tsne \u001b[38;5;241m=\u001b[39m hyp\u001b[38;5;241m.\u001b[39mreduce(data, model\u001b[38;5;241m=\u001b[39m\u001b[38;5;124m'\u001b[39m\u001b[38;5;124mTSNE\u001b[39m\u001b[38;5;124m'\u001b[39m, n_components\u001b[38;5;241m=\u001b[39m\u001b[38;5;241m2\u001b[39m)\n\u001b[1;32m      4\u001b[0m \u001b[38;5;28;01mtry\u001b[39;00m:\n",
            "\u001b[0;31mNameError\u001b[0m: name 'hyp' is not defined"
          ]
        }
      ],
      "source": [
        "# Dimensionality reduction\n",
        "reduced_pca = hyp.reduce(data, model='PCA', n_components=3)\n",
        "reduced_tsne = hyp.reduce(data, model='TSNE', n_components=2)\n",
        "try:\n",
        "    reduced_umap = hyp.reduce(data, model='UMAP', n_components=2)\n",
        "    print('UMAP reduction complete')\n",
        "except Exception as e:\n",
        "    print('UMAP not available:', e)\n",
        "print('Reductions complete:', reduced_pca.shape, reduced_tsne.shape)\n"
      ]
    },
    {
      "cell_type": "code",
      "execution_count": 7,
      "metadata": {},
      "outputs": [
        {
          "ename": "NameError",
          "evalue": "name 'hyp' is not defined",
          "output_type": "error",
          "traceback": [
            "\u001b[0;31m---------------------------------------------------------------------------\u001b[0m",
            "\u001b[0;31mNameError\u001b[0m                                 Traceback (most recent call last)",
            "Cell \u001b[0;32mIn[7], line 2\u001b[0m\n\u001b[1;32m      1\u001b[0m \u001b[38;5;66;03m# Normalization\u001b[39;00m\n\u001b[0;32m----> 2\u001b[0m normed \u001b[38;5;241m=\u001b[39m \u001b[43mhyp\u001b[49m\u001b[38;5;241m.\u001b[39mnormalize(data)\n\u001b[1;32m      3\u001b[0m \u001b[38;5;28mprint\u001b[39m(\u001b[38;5;124m'\u001b[39m\u001b[38;5;124mNormalization complete:\u001b[39m\u001b[38;5;124m'\u001b[39m, normed\u001b[38;5;241m.\u001b[39mshape)\n",
            "\u001b[0;31mNameError\u001b[0m: name 'hyp' is not defined"
          ]
        }
      ],
      "source": [
        "# Normalization\n",
        "normed = hyp.normalize(data)\n",
        "print('Normalization complete:', normed.shape)\n"
      ]
    },
    {
      "cell_type": "code",
      "execution_count": 8,
      "metadata": {},
      "outputs": [
        {
          "ename": "NameError",
          "evalue": "name 'hyp' is not defined",
          "output_type": "error",
          "traceback": [
            "\u001b[0;31m---------------------------------------------------------------------------\u001b[0m",
            "\u001b[0;31mNameError\u001b[0m                                 Traceback (most recent call last)",
            "Cell \u001b[0;32mIn[8], line 3\u001b[0m\n\u001b[1;32m      1\u001b[0m \u001b[38;5;66;03m# Animation\u001b[39;00m\n\u001b[1;32m      2\u001b[0m series \u001b[38;5;241m=\u001b[39m [np\u001b[38;5;241m.\u001b[39mrandom\u001b[38;5;241m.\u001b[39mrandn(\u001b[38;5;241m50\u001b[39m, \u001b[38;5;241m3\u001b[39m)\u001b[38;5;241m+\u001b[39mi\u001b[38;5;241m*\u001b[39m\u001b[38;5;241m0.2\u001b[39m \u001b[38;5;28;01mfor\u001b[39;00m i \u001b[38;5;129;01min\u001b[39;00m \u001b[38;5;28mrange\u001b[39m(\u001b[38;5;241m5\u001b[39m)]\n\u001b[0;32m----> 3\u001b[0m anim \u001b[38;5;241m=\u001b[39m \u001b[43mhyp\u001b[49m\u001b[38;5;241m.\u001b[39mplot(series, animate\u001b[38;5;241m=\u001b[39m\u001b[38;5;28;01mTrue\u001b[39;00m)\n\u001b[1;32m      4\u001b[0m \u001b[38;5;28mprint\u001b[39m(\u001b[38;5;124m'\u001b[39m\u001b[38;5;124mAnimation created with\u001b[39m\u001b[38;5;124m'\u001b[39m, \u001b[38;5;28mlen\u001b[39m(series), \u001b[38;5;124m'\u001b[39m\u001b[38;5;124mframes\u001b[39m\u001b[38;5;124m'\u001b[39m)\n\u001b[1;32m      5\u001b[0m anim\u001b[38;5;241m.\u001b[39mshow()\n",
            "\u001b[0;31mNameError\u001b[0m: name 'hyp' is not defined"
          ]
        }
      ],
      "source": [
        "# Animation\n",
        "series = [np.random.randn(50, 3)+i*0.2 for i in range(5)]\n",
        "anim = hyp.plot(series, animate=True)\n",
        "print('Animation created with', len(series), 'frames')\n",
        "anim.show()\n"
      ]
    }
  ],
  "metadata": {
    "kernelspec": {
      "display_name": "Python 3",
      "language": "python",
      "name": "python3"
    },
    "language_info": {
      "codemirror_mode": {
        "name": "ipython",
        "version": 3
      },
      "file_extension": ".py",
      "mimetype": "text/x-python",
      "name": "python",
      "nbconvert_exporter": "python",
      "pygments_lexer": "ipython3",
      "version": "3.10.17"
    }
  },
  "nbformat": 4,
  "nbformat_minor": 2
}
