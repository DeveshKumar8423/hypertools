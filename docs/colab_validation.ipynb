{
  "cells": [
    {
      "cell_type": "code",
      "execution_count": 13,
      "metadata": {},
      "outputs": [
        {
          "name": "stdout",
          "output_type": "stream",
          "text": [
            "Found existing installation: thinc 8.3.6\n",
            "Uninstalling thinc-8.3.6:\n",
            "  Successfully uninstalled thinc-8.3.6\n",
            "Found existing installation: spacy 3.8.7\n",
            "Uninstalling spacy-3.8.7:\n",
            "  Successfully uninstalled spacy-3.8.7\n",
            "Found existing installation: catalogue 2.0.10\n",
            "Uninstalling catalogue-2.0.10:\n",
            "  Successfully uninstalled catalogue-2.0.10\n",
            "Found existing installation: cymem 2.0.11\n",
            "Uninstalling cymem-2.0.11:\n",
            "  Successfully uninstalled cymem-2.0.11\n",
            "Found existing installation: murmurhash 1.0.13\n",
            "Uninstalling murmurhash-1.0.13:\n",
            "  Successfully uninstalled murmurhash-1.0.13\n",
            "Found existing installation: preshed 3.0.10\n",
            "Uninstalling preshed-3.0.10:\n",
            "  Successfully uninstalled preshed-3.0.10\n",
            "Found existing installation: srsly 2.5.1\n",
            "Uninstalling srsly-2.5.1:\n",
            "  Successfully uninstalled srsly-2.5.1\n",
            "Found existing installation: wasabi 1.1.3\n",
            "Uninstalling wasabi-1.1.3:\n",
            "  Successfully uninstalled wasabi-1.1.3\n",
            "Note: you may need to restart the kernel to use updated packages.\n"
          ]
        }
      ],
      "source": [
        "%pip uninstall -y thinc spacy catalogue cymem murmurhash preshed srsly wasabi || true"
      ]
    },
    {
      "cell_type": "code",
      "execution_count": null,
      "metadata": {},
      "outputs": [],
      "source": [
        "# Ensure Plotly can render in Colab and nbformat is present\n",
        "%pip install -q \"nbformat>=5\"\n",
        "import plotly.io as pio\n",
        "pio.renderers.default = \"colab\"\n",
        "print(\"Plotly renderer set to 'colab' and nbformat installed\")\n"
      ]
    },
    {
      "cell_type": "code",
      "execution_count": 14,
      "metadata": {},
      "outputs": [
        {
          "name": "stdout",
          "output_type": "stream",
          "text": [
            "Note: you may need to restart the kernel to use updated packages.\n",
            "Note: you may need to restart the kernel to use updated packages.\n",
            "Note: you may need to restart the kernel to use updated packages.\n",
            "Installs complete. If imports fail, restart runtime and run again.\n"
          ]
        }
      ],
      "source": [
        "# Install hypertools and deps (default to NumPy < 2 to avoid binary incompatibilities in Colab)\n",
        "%pip install -q --upgrade pip\n",
        "%pip install -q \"numpy<2\" \"pandas>=1.3,<3\" \"scikit-learn>=1.0\" \"umap-learn>=0.5\" \"matplotlib>=3.3\" \"plotly>=5\" \"seaborn>=0.11\"\n",
        "# Install from your GitHub fork (master has the merged modernization)\n",
        "%pip install -q -U git+https://github.com/DeveshKumar8423/hypertools.git@master\n",
        "print('Installs complete. If imports fail, restart runtime and run again.')\n"
      ]
    },
    {
      "cell_type": "code",
      "execution_count": 15,
      "metadata": {},
      "outputs": [
        {
          "name": "stdout",
          "output_type": "stream",
          "text": [
            "Warnings suppressed\n"
          ]
        }
      ],
      "source": [
        "import warnings, os\n",
        "warnings.filterwarnings('ignore')\n",
        "os.environ['PYTHONWARNINGS']='ignore'\n",
        "# TensorFlow and other verbose libs\n",
        "os.environ['TF_CPP_MIN_LOG_LEVEL'] = '3'\n",
        "print('Warnings suppressed')\n"
      ]
    },
    {
      "cell_type": "code",
      "execution_count": 16,
      "metadata": {},
      "outputs": [
        {
          "name": "stdout",
          "output_type": "stream",
          "text": [
            "Imports OK\n"
          ]
        }
      ],
      "source": [
        "import numpy as np\n",
        "import hypertools as hyp\n",
        "print('Imports OK')\n"
      ]
    },
    {
      "cell_type": "code",
      "execution_count": 17,
      "metadata": {},
      "outputs": [
        {
          "ename": "ValueError",
          "evalue": "Mime type rendering requires nbformat>=4.2.0 but it is not installed",
          "output_type": "error",
          "traceback": [
            "\u001b[0;31m---------------------------------------------------------------------------\u001b[0m",
            "\u001b[0;31mValueError\u001b[0m                                Traceback (most recent call last)",
            "Cell \u001b[0;32mIn[17], line 4\u001b[0m\n\u001b[1;32m      2\u001b[0m data \u001b[38;5;241m=\u001b[39m np\u001b[38;5;241m.\u001b[39mrandom\u001b[38;5;241m.\u001b[39mrandn(\u001b[38;5;241m100\u001b[39m, \u001b[38;5;241m10\u001b[39m)\n\u001b[1;32m      3\u001b[0m fig \u001b[38;5;241m=\u001b[39m hyp\u001b[38;5;241m.\u001b[39mplot(data)\n\u001b[0;32m----> 4\u001b[0m \u001b[43mfig\u001b[49m\u001b[38;5;241;43m.\u001b[39;49m\u001b[43mshow\u001b[49m\u001b[43m(\u001b[49m\u001b[43m)\u001b[49m\n\u001b[1;32m      5\u001b[0m \u001b[38;5;28mprint\u001b[39m(\u001b[38;5;124m'\u001b[39m\u001b[38;5;124mBasic plot complete\u001b[39m\u001b[38;5;124m'\u001b[39m)\n",
            "File \u001b[0;32m/usr/local/lib/python3.10/site-packages/plotly/basedatatypes.py:3420\u001b[0m, in \u001b[0;36mBaseFigure.show\u001b[0;34m(self, *args, **kwargs)\u001b[0m\n\u001b[1;32m   3387\u001b[0m \u001b[38;5;250m\u001b[39m\u001b[38;5;124;03m\"\"\"\u001b[39;00m\n\u001b[1;32m   3388\u001b[0m \u001b[38;5;124;03mShow a figure using either the default renderer(s) or the renderer(s)\u001b[39;00m\n\u001b[1;32m   3389\u001b[0m \u001b[38;5;124;03mspecified by the renderer argument\u001b[39;00m\n\u001b[0;32m   (...)\u001b[0m\n\u001b[1;32m   3416\u001b[0m \u001b[38;5;124;03mNone\u001b[39;00m\n\u001b[1;32m   3417\u001b[0m \u001b[38;5;124;03m\"\"\"\u001b[39;00m\n\u001b[1;32m   3418\u001b[0m \u001b[38;5;28;01mimport\u001b[39;00m\u001b[38;5;250m \u001b[39m\u001b[38;5;21;01mplotly\u001b[39;00m\u001b[38;5;21;01m.\u001b[39;00m\u001b[38;5;21;01mio\u001b[39;00m\u001b[38;5;250m \u001b[39m\u001b[38;5;28;01mas\u001b[39;00m\u001b[38;5;250m \u001b[39m\u001b[38;5;21;01mpio\u001b[39;00m\n\u001b[0;32m-> 3420\u001b[0m \u001b[38;5;28;01mreturn\u001b[39;00m \u001b[43mpio\u001b[49m\u001b[38;5;241;43m.\u001b[39;49m\u001b[43mshow\u001b[49m\u001b[43m(\u001b[49m\u001b[38;5;28;43mself\u001b[39;49m\u001b[43m,\u001b[49m\u001b[43m \u001b[49m\u001b[38;5;241;43m*\u001b[39;49m\u001b[43margs\u001b[49m\u001b[43m,\u001b[49m\u001b[43m \u001b[49m\u001b[38;5;241;43m*\u001b[39;49m\u001b[38;5;241;43m*\u001b[39;49m\u001b[43mkwargs\u001b[49m\u001b[43m)\u001b[49m\n",
            "File \u001b[0;32m/usr/local/lib/python3.10/site-packages/plotly/io/_renderers.py:415\u001b[0m, in \u001b[0;36mshow\u001b[0;34m(fig, renderer, validate, **kwargs)\u001b[0m\n\u001b[1;32m    410\u001b[0m     \u001b[38;5;28;01mraise\u001b[39;00m \u001b[38;5;167;01mValueError\u001b[39;00m(\n\u001b[1;32m    411\u001b[0m         \u001b[38;5;124m\"\u001b[39m\u001b[38;5;124mMime type rendering requires ipython but it is not installed\u001b[39m\u001b[38;5;124m\"\u001b[39m\n\u001b[1;32m    412\u001b[0m     )\n\u001b[1;32m    414\u001b[0m \u001b[38;5;28;01mif\u001b[39;00m \u001b[38;5;129;01mnot\u001b[39;00m nbformat \u001b[38;5;129;01mor\u001b[39;00m Version(nbformat\u001b[38;5;241m.\u001b[39m__version__) \u001b[38;5;241m<\u001b[39m Version(\u001b[38;5;124m\"\u001b[39m\u001b[38;5;124m4.2.0\u001b[39m\u001b[38;5;124m\"\u001b[39m):\n\u001b[0;32m--> 415\u001b[0m     \u001b[38;5;28;01mraise\u001b[39;00m \u001b[38;5;167;01mValueError\u001b[39;00m(\n\u001b[1;32m    416\u001b[0m         \u001b[38;5;124m\"\u001b[39m\u001b[38;5;124mMime type rendering requires nbformat>=4.2.0 but it is not installed\u001b[39m\u001b[38;5;124m\"\u001b[39m\n\u001b[1;32m    417\u001b[0m     )\n\u001b[1;32m    419\u001b[0m display_jupyter_version_warnings()\n\u001b[1;32m    421\u001b[0m ipython_display\u001b[38;5;241m.\u001b[39mdisplay(bundle, raw\u001b[38;5;241m=\u001b[39m\u001b[38;5;28;01mTrue\u001b[39;00m)\n",
            "\u001b[0;31mValueError\u001b[0m: Mime type rendering requires nbformat>=4.2.0 but it is not installed"
          ]
        }
      ],
      "source": [
        "# Basic plotting\n",
        "data = np.random.randn(100, 10)\n",
        "fig = hyp.plot(data)\n",
        "fig.show()\n",
        "print('Basic plot complete')\n"
      ]
    },
    {
      "cell_type": "code",
      "execution_count": 6,
      "metadata": {},
      "outputs": [
        {
          "ename": "NameError",
          "evalue": "name 'hyp' is not defined",
          "output_type": "error",
          "traceback": [
            "\u001b[0;31m---------------------------------------------------------------------------\u001b[0m",
            "\u001b[0;31mNameError\u001b[0m                                 Traceback (most recent call last)",
            "Cell \u001b[0;32mIn[6], line 2\u001b[0m\n\u001b[1;32m      1\u001b[0m \u001b[38;5;66;03m# Dimensionality reduction\u001b[39;00m\n\u001b[0;32m----> 2\u001b[0m reduced_pca \u001b[38;5;241m=\u001b[39m \u001b[43mhyp\u001b[49m\u001b[38;5;241m.\u001b[39mreduce(data, model\u001b[38;5;241m=\u001b[39m\u001b[38;5;124m'\u001b[39m\u001b[38;5;124mPCA\u001b[39m\u001b[38;5;124m'\u001b[39m, n_components\u001b[38;5;241m=\u001b[39m\u001b[38;5;241m3\u001b[39m)\n\u001b[1;32m      3\u001b[0m reduced_tsne \u001b[38;5;241m=\u001b[39m hyp\u001b[38;5;241m.\u001b[39mreduce(data, model\u001b[38;5;241m=\u001b[39m\u001b[38;5;124m'\u001b[39m\u001b[38;5;124mTSNE\u001b[39m\u001b[38;5;124m'\u001b[39m, n_components\u001b[38;5;241m=\u001b[39m\u001b[38;5;241m2\u001b[39m)\n\u001b[1;32m      4\u001b[0m \u001b[38;5;28;01mtry\u001b[39;00m:\n",
            "\u001b[0;31mNameError\u001b[0m: name 'hyp' is not defined"
          ]
        }
      ],
      "source": [
        "# Dimensionality reduction\n",
        "reduced_pca = hyp.reduce(data, model='PCA', n_components=3)\n",
        "reduced_tsne = hyp.reduce(data, model='TSNE', n_components=2)\n",
        "try:\n",
        "    reduced_umap = hyp.reduce(data, model='UMAP', n_components=2)\n",
        "    print('UMAP reduction complete')\n",
        "except Exception as e:\n",
        "    print('UMAP not available:', e)\n",
        "print('Reductions complete:', reduced_pca.shape, reduced_tsne.shape)\n"
      ]
    },
    {
      "cell_type": "code",
      "execution_count": 7,
      "metadata": {},
      "outputs": [
        {
          "ename": "NameError",
          "evalue": "name 'hyp' is not defined",
          "output_type": "error",
          "traceback": [
            "\u001b[0;31m---------------------------------------------------------------------------\u001b[0m",
            "\u001b[0;31mNameError\u001b[0m                                 Traceback (most recent call last)",
            "Cell \u001b[0;32mIn[7], line 2\u001b[0m\n\u001b[1;32m      1\u001b[0m \u001b[38;5;66;03m# Normalization\u001b[39;00m\n\u001b[0;32m----> 2\u001b[0m normed \u001b[38;5;241m=\u001b[39m \u001b[43mhyp\u001b[49m\u001b[38;5;241m.\u001b[39mnormalize(data)\n\u001b[1;32m      3\u001b[0m \u001b[38;5;28mprint\u001b[39m(\u001b[38;5;124m'\u001b[39m\u001b[38;5;124mNormalization complete:\u001b[39m\u001b[38;5;124m'\u001b[39m, normed\u001b[38;5;241m.\u001b[39mshape)\n",
            "\u001b[0;31mNameError\u001b[0m: name 'hyp' is not defined"
          ]
        }
      ],
      "source": [
        "# Normalization\n",
        "normed = hyp.normalize(data)\n",
        "print('Normalization complete:', normed.shape)\n"
      ]
    },
    {
      "cell_type": "code",
      "execution_count": 8,
      "metadata": {},
      "outputs": [
        {
          "ename": "NameError",
          "evalue": "name 'hyp' is not defined",
          "output_type": "error",
          "traceback": [
            "\u001b[0;31m---------------------------------------------------------------------------\u001b[0m",
            "\u001b[0;31mNameError\u001b[0m                                 Traceback (most recent call last)",
            "Cell \u001b[0;32mIn[8], line 3\u001b[0m\n\u001b[1;32m      1\u001b[0m \u001b[38;5;66;03m# Animation\u001b[39;00m\n\u001b[1;32m      2\u001b[0m series \u001b[38;5;241m=\u001b[39m [np\u001b[38;5;241m.\u001b[39mrandom\u001b[38;5;241m.\u001b[39mrandn(\u001b[38;5;241m50\u001b[39m, \u001b[38;5;241m3\u001b[39m)\u001b[38;5;241m+\u001b[39mi\u001b[38;5;241m*\u001b[39m\u001b[38;5;241m0.2\u001b[39m \u001b[38;5;28;01mfor\u001b[39;00m i \u001b[38;5;129;01min\u001b[39;00m \u001b[38;5;28mrange\u001b[39m(\u001b[38;5;241m5\u001b[39m)]\n\u001b[0;32m----> 3\u001b[0m anim \u001b[38;5;241m=\u001b[39m \u001b[43mhyp\u001b[49m\u001b[38;5;241m.\u001b[39mplot(series, animate\u001b[38;5;241m=\u001b[39m\u001b[38;5;28;01mTrue\u001b[39;00m)\n\u001b[1;32m      4\u001b[0m \u001b[38;5;28mprint\u001b[39m(\u001b[38;5;124m'\u001b[39m\u001b[38;5;124mAnimation created with\u001b[39m\u001b[38;5;124m'\u001b[39m, \u001b[38;5;28mlen\u001b[39m(series), \u001b[38;5;124m'\u001b[39m\u001b[38;5;124mframes\u001b[39m\u001b[38;5;124m'\u001b[39m)\n\u001b[1;32m      5\u001b[0m anim\u001b[38;5;241m.\u001b[39mshow()\n",
            "\u001b[0;31mNameError\u001b[0m: name 'hyp' is not defined"
          ]
        }
      ],
      "source": [
        "# Animation\n",
        "series = [np.random.randn(50, 3)+i*0.2 for i in range(5)]\n",
        "anim = hyp.plot(series, animate=True)\n",
        "print('Animation created with', len(series), 'frames')\n",
        "anim.show()\n"
      ]
    }
  ],
  "metadata": {
    "kernelspec": {
      "display_name": "Python 3",
      "language": "python",
      "name": "python3"
    },
    "language_info": {
      "codemirror_mode": {
        "name": "ipython",
        "version": 3
      },
      "file_extension": ".py",
      "mimetype": "text/x-python",
      "name": "python",
      "nbconvert_exporter": "python",
      "pygments_lexer": "ipython3",
      "version": "3.10.17"
    }
  },
  "nbformat": 4,
  "nbformat_minor": 2
}
