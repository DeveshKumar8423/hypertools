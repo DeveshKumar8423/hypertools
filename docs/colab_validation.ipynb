{
  "cells": [
    {
      "cell_type": "code",
      "execution_count": null,
      "metadata": {},
      "outputs": [],
      "source": [
        "# Install hypertools and deps (works with NumPy 1.x or 2.x)\n",
        "%pip install -q --upgrade pip\n",
        "%pip install -q \"numpy>=1.19,<3.0\" \"pandas>=1.3,<3\" \"scikit-learn>=1.0\" \"umap-learn>=0.5\" \"matplotlib>=3.3\" \"plotly>=5\" \"seaborn>=0.11\"\n",
        "%pip install -q .\n"
      ]
    },
    {
      "cell_type": "code",
      "execution_count": null,
      "metadata": {},
      "outputs": [],
      "source": [
        "import warnings, os\n",
        "warnings.filterwarnings('ignore')\n",
        "os.environ['PYTHONWARNINGS']='ignore'\n",
        "print('Warnings suppressed')\n"
      ]
    },
    {
      "cell_type": "code",
      "execution_count": null,
      "metadata": {},
      "outputs": [],
      "source": [
        "import numpy as np\n",
        "import hypertools as hyp\n",
        "print('Imports OK')\n"
      ]
    },
    {
      "cell_type": "code",
      "execution_count": null,
      "metadata": {},
      "outputs": [],
      "source": [
        "# Basic plotting\n",
        "data = np.random.randn(100, 10)\n",
        "fig = hyp.plot(data)\n",
        "fig.show()\n",
        "print('Basic plot complete')\n"
      ]
    },
    {
      "cell_type": "code",
      "execution_count": null,
      "metadata": {},
      "outputs": [],
      "source": [
        "# Dimensionality reduction\n",
        "reduced_pca = hyp.reduce(data, model='PCA', n_components=3)\n",
        "reduced_tsne = hyp.reduce(data, model='TSNE', n_components=2)\n",
        "try:\n",
        "    reduced_umap = hyp.reduce(data, model='UMAP', n_components=2)\n",
        "    print('UMAP reduction complete')\n",
        "except Exception as e:\n",
        "    print('UMAP not available:', e)\n",
        "print('Reductions complete:', reduced_pca.shape, reduced_tsne.shape)\n"
      ]
    },
    {
      "cell_type": "code",
      "execution_count": null,
      "metadata": {},
      "outputs": [],
      "source": [
        "# Normalization\n",
        "normed = hyp.normalize(data)\n",
        "print('Normalization complete:', normed.shape)\n"
      ]
    },
    {
      "cell_type": "code",
      "execution_count": null,
      "metadata": {},
      "outputs": [],
      "source": [
        "# Animation\n",
        "series = [np.random.randn(50, 3)+i*0.2 for i in range(5)]\n",
        "anim = hyp.plot(series, animate=True)\n",
        "print('Animation created with', len(series), 'frames')\n",
        "anim.show()\n"
      ]
    }
  ],
  "metadata": {
    "language_info": {
      "name": "python"
    }
  },
  "nbformat": 4,
  "nbformat_minor": 2
}
